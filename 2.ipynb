{
 "cells": [
  {
   "cell_type": "code",
   "execution_count": 1,
   "metadata": {},
   "outputs": [],
   "source": [
    "import cv2\n",
    "import numpy as np"
   ]
  },
  {
   "cell_type": "code",
   "execution_count": 2,
   "metadata": {},
   "outputs": [],
   "source": [
    "image = cv2.imread('Ferrari.jpg')\n",
    "\n",
    "# Display the image\n",
    "cv2.imshow('Loaded Image', image)\n",
    "cv2.waitKey(0)\n",
    "cv2.destroyAllWindows()"
   ]
  },
  {
   "cell_type": "code",
   "execution_count": 11,
   "metadata": {},
   "outputs": [
    {
     "ename": "NameError",
     "evalue": "name 'r' is not defined",
     "output_type": "error",
     "traceback": [
      "\u001b[1;31m---------------------------------------------------------------------------\u001b[0m",
      "\u001b[1;31mNameError\u001b[0m                                 Traceback (most recent call last)",
      "Cell \u001b[1;32mIn[11], line 21\u001b[0m\n\u001b[0;32m     19\u001b[0m cv2\u001b[38;5;241m.\u001b[39mwaitKey(\u001b[38;5;241m0\u001b[39m)\n\u001b[0;32m     20\u001b[0m cv2\u001b[38;5;241m.\u001b[39mdestroyAllWindows()\n\u001b[1;32m---> 21\u001b[0m \u001b[43mr\u001b[49m\n",
      "\u001b[1;31mNameError\u001b[0m: name 'r' is not defined"
     ]
    }
   ],
   "source": [
    "# Draw a line from top-left to bottom-right\n",
    "cv2.line(image, (0, 0), (image.shape[1], image.shape[0]), (255, 0, 0), 5)\n",
    "\n",
    "# Draw a rectangle (top-left corner, bottom-right corner)\n",
    "cv2.rectangle(image, (50, 50), (300, 300), (0, 255, 0), 3)\n",
    "\n",
    "# Draw a circle (center, radius)\n",
    "cv2.circle(image, (200, 200), 100, (0, 0, 255), 5)\n",
    "\n",
    "# Draw an ellipse (center, axes lengths, rotation angle, start angle, end angle)\n",
    "cv2.ellipse(image, (700, 400), (150, 75), 0, 0, 360, (255, 255, 255), 3)\n",
    "\n",
    "# Put text on the image\n",
    "cv2.putText(image, 'Hello, OpenCV!', (10, 500), cv2.FONT_HERSHEY_SIMPLEX, 2, (255, 255, 255),\n",
    "            2)\n",
    "\n",
    "# Display the annotated image\n",
    "cv2.imshow('Annotated Image', image)\n",
    "cv2.waitKey(0)\n",
    "cv2.destroyAllWindows()\n"
   ]
  }
 ],
 "metadata": {
  "kernelspec": {
   "display_name": "Python 3",
   "language": "python",
   "name": "python3"
  },
  "language_info": {
   "codemirror_mode": {
    "name": "ipython",
    "version": 3
   },
   "file_extension": ".py",
   "mimetype": "text/x-python",
   "name": "python",
   "nbconvert_exporter": "python",
   "pygments_lexer": "ipython3",
   "version": "3.10.11"
  }
 },
 "nbformat": 4,
 "nbformat_minor": 2
}
